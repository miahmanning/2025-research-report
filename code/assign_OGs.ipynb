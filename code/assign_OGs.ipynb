{
 "cells": [
  {
   "cell_type": "code",
   "execution_count": 6,
   "id": "7dfc4663-6029-420c-97b6-798a5a802410",
   "metadata": {},
   "outputs": [
    {
     "name": "stdout",
     "output_type": "stream",
     "text": [
      "Collecting biopython\n",
      "  Downloading biopython-1.85-cp312-cp312-win_amd64.whl.metadata (13 kB)\n",
      "Requirement already satisfied: numpy in c:\\users\\miahm\\anaconda3\\lib\\site-packages (from biopython) (1.26.4)\n",
      "Downloading biopython-1.85-cp312-cp312-win_amd64.whl (2.8 MB)\n",
      "   ---------------------------------------- 0.0/2.8 MB ? eta -:--:--\n",
      "   ---------------------------------------- 2.8/2.8 MB 23.5 MB/s eta 0:00:00\n",
      "Installing collected packages: biopython\n",
      "Successfully installed biopython-1.85\n"
     ]
    }
   ],
   "source": [
    "!pip install biopython"
   ]
  },
  {
   "cell_type": "code",
   "execution_count": 7,
   "id": "a8d19aea-7b54-488e-bf78-0ca06232b273",
   "metadata": {},
   "outputs": [],
   "source": [
    "import csv\n",
    "import pandas as pd\n",
    "from Bio import SeqIO\n",
    "from collections import defaultdict\n",
    "import numpy as np\n",
    "import re"
   ]
  },
  {
   "cell_type": "code",
   "execution_count": 8,
   "id": "1c7b3935-3d03-44b3-9780-051a9f6817d1",
   "metadata": {},
   "outputs": [],
   "source": [
    "pan_og_874 = pd.read_csv('assigned_orthogroups_874.csv', na_values=['NaN'])\n",
    "pan_og_874['gene_id'] = pan_og_874['gene_id'].str.replace(r'^874_', '', regex=True)\n",
    "pan_og_914 = pd.read_csv('assigned_orthogroups_914.csv', na_values=['NaN'])\n",
    "pan_og_914['gene_id'] = pan_og_914['gene_id'].str.replace(r'^914_', '', regex=True)\n",
    "mmseq_clu = pd.read_csv('DB_clu.tsv', delimiter ='\\t', names=['Representative', 'Cluster_Members'])\n",
    "filtered_874 = list(SeqIO.parse(\"filtered_transcripts_874.fasta\", \"fasta\"))\n",
    "filtered_914 = list(SeqIO.parse(\"filtered_transcripts_914.fasta\", \"fasta\"))"
   ]
  },
  {
   "cell_type": "code",
   "execution_count": 22,
   "id": "c653faed-300d-4234-b625-b673798310d1",
   "metadata": {},
   "outputs": [
    {
     "data": {
      "text/html": [
       "<div>\n",
       "<style scoped>\n",
       "    .dataframe tbody tr th:only-of-type {\n",
       "        vertical-align: middle;\n",
       "    }\n",
       "\n",
       "    .dataframe tbody tr th {\n",
       "        vertical-align: top;\n",
       "    }\n",
       "\n",
       "    .dataframe thead th {\n",
       "        text-align: right;\n",
       "    }\n",
       "</style>\n",
       "<table border=\"1\" class=\"dataframe\">\n",
       "  <thead>\n",
       "    <tr style=\"text-align: right;\">\n",
       "      <th></th>\n",
       "      <th>Representative</th>\n",
       "      <th>Cluster_Members</th>\n",
       "    </tr>\n",
       "  </thead>\n",
       "  <tbody>\n",
       "    <tr>\n",
       "      <th>0</th>\n",
       "      <td>NODE_100000_length_314_cov_171.430189_g54640_i0</td>\n",
       "      <td>NODE_100000_length_314_cov_171.430189_g54640_i0</td>\n",
       "    </tr>\n",
       "    <tr>\n",
       "      <th>1</th>\n",
       "      <td>NODE_100144_length_312_cov_391.022814_g54784_i0</td>\n",
       "      <td>NODE_100144_length_312_cov_391.022814_g54784_i0</td>\n",
       "    </tr>\n",
       "    <tr>\n",
       "      <th>2</th>\n",
       "      <td>NODE_100297_length_310_cov_1002.049808_g54937_i0</td>\n",
       "      <td>NODE_100297_length_310_cov_1002.049808_g54937_i0</td>\n",
       "    </tr>\n",
       "    <tr>\n",
       "      <th>3</th>\n",
       "      <td>NODE_100484_length_308_cov_1823.718147_g55124_i0</td>\n",
       "      <td>NODE_100484_length_308_cov_1823.718147_g55124_i0</td>\n",
       "    </tr>\n",
       "    <tr>\n",
       "      <th>4</th>\n",
       "      <td>NODE_100484_length_308_cov_1823.718147_g55124_i0</td>\n",
       "      <td>NODE_94513_length_385_cov_1181.008929_g49155_i0</td>\n",
       "    </tr>\n",
       "    <tr>\n",
       "      <th>...</th>\n",
       "      <td>...</td>\n",
       "      <td>...</td>\n",
       "    </tr>\n",
       "    <tr>\n",
       "      <th>47142</th>\n",
       "      <td>NODE_126287_length_185_cov_1.948529_g80926_i0</td>\n",
       "      <td>NODE_126287_length_185_cov_1.948529_g80926_i0</td>\n",
       "    </tr>\n",
       "    <tr>\n",
       "      <th>47143</th>\n",
       "      <td>NODE_126482_length_185_cov_0.808824_g81121_i0</td>\n",
       "      <td>NODE_126482_length_185_cov_0.808824_g81121_i0</td>\n",
       "    </tr>\n",
       "    <tr>\n",
       "      <th>47144</th>\n",
       "      <td>NODE_126643_length_185_cov_0.698529_g81282_i0</td>\n",
       "      <td>NODE_126643_length_185_cov_0.698529_g81282_i0</td>\n",
       "    </tr>\n",
       "    <tr>\n",
       "      <th>47145</th>\n",
       "      <td>NODE_126795_length_184_cov_585.814815_g81434_i0</td>\n",
       "      <td>NODE_126795_length_184_cov_585.814815_g81434_i0</td>\n",
       "    </tr>\n",
       "    <tr>\n",
       "      <th>47146</th>\n",
       "      <td>NODE_126890_length_184_cov_2.518519_g81529_i0</td>\n",
       "      <td>NODE_126890_length_184_cov_2.518519_g81529_i0</td>\n",
       "    </tr>\n",
       "  </tbody>\n",
       "</table>\n",
       "<p>47147 rows × 2 columns</p>\n",
       "</div>"
      ],
      "text/plain": [
       "                                         Representative  \\\n",
       "0       NODE_100000_length_314_cov_171.430189_g54640_i0   \n",
       "1       NODE_100144_length_312_cov_391.022814_g54784_i0   \n",
       "2      NODE_100297_length_310_cov_1002.049808_g54937_i0   \n",
       "3      NODE_100484_length_308_cov_1823.718147_g55124_i0   \n",
       "4      NODE_100484_length_308_cov_1823.718147_g55124_i0   \n",
       "...                                                 ...   \n",
       "47142     NODE_126287_length_185_cov_1.948529_g80926_i0   \n",
       "47143     NODE_126482_length_185_cov_0.808824_g81121_i0   \n",
       "47144     NODE_126643_length_185_cov_0.698529_g81282_i0   \n",
       "47145   NODE_126795_length_184_cov_585.814815_g81434_i0   \n",
       "47146     NODE_126890_length_184_cov_2.518519_g81529_i0   \n",
       "\n",
       "                                        Cluster_Members  \n",
       "0       NODE_100000_length_314_cov_171.430189_g54640_i0  \n",
       "1       NODE_100144_length_312_cov_391.022814_g54784_i0  \n",
       "2      NODE_100297_length_310_cov_1002.049808_g54937_i0  \n",
       "3      NODE_100484_length_308_cov_1823.718147_g55124_i0  \n",
       "4       NODE_94513_length_385_cov_1181.008929_g49155_i0  \n",
       "...                                                 ...  \n",
       "47142     NODE_126287_length_185_cov_1.948529_g80926_i0  \n",
       "47143     NODE_126482_length_185_cov_0.808824_g81121_i0  \n",
       "47144     NODE_126643_length_185_cov_0.698529_g81282_i0  \n",
       "47145   NODE_126795_length_184_cov_585.814815_g81434_i0  \n",
       "47146     NODE_126890_length_184_cov_2.518519_g81529_i0  \n",
       "\n",
       "[47147 rows x 2 columns]"
      ]
     },
     "execution_count": 22,
     "metadata": {},
     "output_type": "execute_result"
    }
   ],
   "source": [
    "mmseq_clu"
   ]
  },
  {
   "cell_type": "markdown",
   "id": "9060f582-00bd-4303-bb12-9d25952488eb",
   "metadata": {},
   "source": [
    "## Assign OGs to the MMSeq2 predited proteins that did not get an OG from the pan genome"
   ]
  },
  {
   "cell_type": "code",
   "execution_count": 9,
   "id": "e0854673-7448-4a60-b3a9-059e9a33b40f",
   "metadata": {},
   "outputs": [],
   "source": [
    "orthogroup_dict = {}\n",
    "t_counter = 1\n",
    "u_counter = 1\n",
    "\n",
    "for rep, members in mmseq_clu.groupby('Representative')['Cluster_Members']:\n",
    "    if len(members) > 1:\n",
    "        og_name = f\"GEP_t_{t_counter:05d}\"\n",
    "        t_counter += 1\n",
    "    else:\n",
    "        og_name = f\"GEP_u_{u_counter:05d}\"\n",
    "        u_counter += 1\n",
    "    for member in members:\n",
    "        orthogroup_dict[member] = og_name\n",
    "\n",
    "mmseq_ogs = pd.DataFrame(list(orthogroup_dict.items()), columns=['gene_id', 'assigned_orthogroup'])\n",
    "mmseq_ogs.to_csv('mmseq_ogs.csv', index=False)"
   ]
  },
  {
   "cell_type": "markdown",
   "id": "172d7a89-61c8-4bbe-9f85-f64b615eb46a",
   "metadata": {},
   "source": [
    "### Sanity Check"
   ]
  },
  {
   "cell_type": "code",
   "execution_count": 7,
   "id": "9b102777-93c8-46d8-860c-c8b3a1a23321",
   "metadata": {},
   "outputs": [
    {
     "name": "stdout",
     "output_type": "stream",
     "text": [
      "1     38396\n",
      "2      2946\n",
      "3       517\n",
      "4       153\n",
      "5        48\n",
      "6        15\n",
      "7        13\n",
      "8         7\n",
      "9         1\n",
      "10        2\n",
      "11        3\n",
      "12        2\n",
      "13        1\n",
      "16        2\n",
      "17        1\n",
      "29        1\n",
      "42        1\n",
      "Name: count, dtype: int64\n"
     ]
    }
   ],
   "source": [
    "#assigned_df.tail(50)\n",
    "og_counts = mmseq_ogs.groupby('assigned_orthogroup').size()\n",
    "# Count how many OGs have 1, 2, 3, etc. transcripts\n",
    "og_summary = og_counts.value_counts().sort_index()\n",
    "print(og_summary)"
   ]
  },
  {
   "cell_type": "code",
   "execution_count": 10,
   "id": "ebc904df-b236-441b-b6cb-f53d2ae981a3",
   "metadata": {},
   "outputs": [
    {
     "name": "stdout",
     "output_type": "stream",
     "text": [
      "\n",
      "Counts of each strain:\n",
      " 874    22043\n",
      "914    23918\n",
      "[]      1186\n",
      "dtype: int64\n"
     ]
    }
   ],
   "source": [
    "strain_mapping = defaultdict(list)\n",
    "\n",
    "# Parse all of the transcripts for RCC874\n",
    "for record in SeqIO.parse(\"filtered_transcripts_874.fasta\", \"fasta\"):\n",
    "    gene_id_from_fasta = record.id.strip()\n",
    "    strain_mapping[gene_id_from_fasta].append('874')\n",
    "for record in SeqIO.parse(\"filtered_transcripts_914.fasta\", \"fasta\"):\n",
    "    gene_id_from_fasta = record.id.strip()\n",
    "    strain_mapping[gene_id_from_fasta].append('914') \n",
    "\n",
    "#Convert lists to comma-separated strings for strains with multiple sources\n",
    "for gene_id, strains in strain_mapping.items():\n",
    "    if len(set(strains)) > 1:\n",
    "        strain_mapping[gene_id] = 'Both'  # Assign 'Both' if it contains both strains\n",
    "    else:\n",
    "        strain_mapping[gene_id] = ', '.join(strains)\n",
    "\n",
    "# Map the strains to mmseq_ogs DataFrame\n",
    "mmseq_ogs['strain'] = mmseq_ogs['gene_id'].map(strain_mapping)\n",
    "\n",
    "# Count how many are 914 and how many are 874\n",
    "strain_counts = mmseq_ogs['strain'].str.get_dummies(sep=', ').sum()\n",
    "print(\"\\nCounts of each strain:\\n\", strain_counts)"
   ]
  },
  {
   "cell_type": "code",
   "execution_count": 11,
   "id": "0e0e25a0-c65f-4fc4-ac59-1cf91eab7ce6",
   "metadata": {},
   "outputs": [
    {
     "name": "stdout",
     "output_type": "stream",
     "text": [
      "\n",
      "Counts of each strain after filtering:\n",
      " 874    22043\n",
      "914    23918\n",
      "dtype: int64\n"
     ]
    }
   ],
   "source": [
    "#Remove bacteria predicted proteins\n",
    "mmseq_ogs = mmseq_ogs[(mmseq_ogs['strain'] == '874') | (mmseq_ogs['strain'] == '914')]\n",
    "strain_counts_filtered = mmseq_ogs['strain'].str.get_dummies(sep=', ').sum()\n",
    "print(\"\\nCounts of each strain after filtering:\\n\", strain_counts_filtered)"
   ]
  },
  {
   "cell_type": "markdown",
   "id": "1ef6eebf-5fcd-47c5-bd19-77c0ccf1cc5e",
   "metadata": {},
   "source": [
    "## Assign OGs for non-coding sequences"
   ]
  },
  {
   "cell_type": "code",
   "execution_count": 13,
   "id": "24092165-1401-4fc7-b3e5-bdc8a03323a0",
   "metadata": {},
   "outputs": [],
   "source": [
    "transcripts_874 = [record.id for record in SeqIO.parse(\"filtered_transcripts_874.fasta\", \"fasta\")]\n",
    "transcripts_914 = [record.id for record in SeqIO.parse(\"filtered_transcripts_914.fasta\", \"fasta\")]\n",
    "transcriptID_874 = set(transcripts_874)\n",
    "transcriptID_914 = set(transcripts_914)\n",
    "mmseq2_gene_ids = set(mmseq_ogs['gene_id'])\n",
    "gene_ids_874 = set(pan_og_874['gene_id'])\n",
    "gene_ids_914 = set(pan_og_914['gene_id'])\n",
    "\n",
    "all_transcripts = transcriptID_874 | transcriptID_914\n",
    "# Remove transcripts found in gene_ids_874, gene_ids_914, or mmseq2_gene_ids\n",
    "noncoding_transcripts = all_transcripts - (gene_ids_874 | gene_ids_914)\n",
    "noncoding_ogs = pd.DataFrame(list(noncoding_transcripts), columns=['gene_id'])\n",
    "\n",
    "noncoding_ogs['assigned_orthogroup'] = [f'GEP_n_{i+1:05d}' for i in range(len(noncoding_ogs))]\n",
    "noncoding_ogs.to_csv('noncoding_ogs.csv', index=False)"
   ]
  },
  {
   "cell_type": "markdown",
   "id": "0ee1fa00-9667-4274-ad16-b4cd9b660b5a",
   "metadata": {},
   "source": [
    "## Filter for just the OGs in the pan genome"
   ]
  },
  {
   "cell_type": "code",
   "execution_count": 14,
   "id": "59456de4-5ea8-4bc9-a494-8bed0bad1cf8",
   "metadata": {},
   "outputs": [],
   "source": [
    "# Replace 'NaN' and 'nan' with actual NaN values\n",
    "pan_og_874.replace({'assigned_orthogroup': ['NaN']}, np.nan, inplace=True)\n",
    "pan_og_914.replace({'assigned_orthogroup': ['NaN']}, np.nan, inplace=True)\n",
    "\n",
    "filtered_874 = pan_og_874.dropna(subset=['assigned_orthogroup'])\n",
    "filtered_914 = pan_og_914.dropna(subset=['assigned_orthogroup'])\n",
    "\n",
    "combined_ogs = pd.concat([filtered_874, filtered_914], ignore_index=True)\n",
    "\n",
    "final_combined_ogs = combined_ogs[['gene_id', 'assigned_orthogroup']]\n",
    "final_combined_ogs.to_csv('combined_assigned_orthogroups.csv', index=False)"
   ]
  },
  {
   "cell_type": "code",
   "execution_count": 15,
   "id": "df2bc0d9-d6f2-4203-8161-9326be561af9",
   "metadata": {},
   "outputs": [
    {
     "data": {
      "text/html": [
       "<div>\n",
       "<style scoped>\n",
       "    .dataframe tbody tr th:only-of-type {\n",
       "        vertical-align: middle;\n",
       "    }\n",
       "\n",
       "    .dataframe tbody tr th {\n",
       "        vertical-align: top;\n",
       "    }\n",
       "\n",
       "    .dataframe thead th {\n",
       "        text-align: right;\n",
       "    }\n",
       "</style>\n",
       "<table border=\"1\" class=\"dataframe\">\n",
       "  <thead>\n",
       "    <tr style=\"text-align: right;\">\n",
       "      <th></th>\n",
       "      <th>gene_id</th>\n",
       "      <th>assigned_orthogroup</th>\n",
       "    </tr>\n",
       "  </thead>\n",
       "  <tbody>\n",
       "    <tr>\n",
       "      <th>0</th>\n",
       "      <td>NODE_100003_length_218_cov_1.508876_g61485_i0</td>\n",
       "      <td>GEP_3_36410</td>\n",
       "    </tr>\n",
       "    <tr>\n",
       "      <th>1</th>\n",
       "      <td>NODE_100007_length_218_cov_1.455621_g61489_i0</td>\n",
       "      <td>GEP_5_83366</td>\n",
       "    </tr>\n",
       "    <tr>\n",
       "      <th>2</th>\n",
       "      <td>NODE_10000_length_2849_cov_6812.425357_g3011_i1</td>\n",
       "      <td>GEP_2_10045</td>\n",
       "    </tr>\n",
       "    <tr>\n",
       "      <th>3</th>\n",
       "      <td>NODE_10001_length_2849_cov_465.148214_g3009_i1</td>\n",
       "      <td>GEP_3_40697</td>\n",
       "    </tr>\n",
       "    <tr>\n",
       "      <th>4</th>\n",
       "      <td>NODE_100021_length_218_cov_1.183432_g61503_i0</td>\n",
       "      <td>GEP_S_193982</td>\n",
       "    </tr>\n",
       "    <tr>\n",
       "      <th>...</th>\n",
       "      <td>...</td>\n",
       "      <td>...</td>\n",
       "    </tr>\n",
       "    <tr>\n",
       "      <th>162656</th>\n",
       "      <td>NODE_99999_length_314_cov_184.928302_g54639_i0</td>\n",
       "      <td>GEP_S_059213</td>\n",
       "    </tr>\n",
       "    <tr>\n",
       "      <th>162657</th>\n",
       "      <td>NODE_9999_length_2647_cov_624.535412_g3749_i0</td>\n",
       "      <td>GEP_1_07449</td>\n",
       "    </tr>\n",
       "    <tr>\n",
       "      <th>162658</th>\n",
       "      <td>NODE_999_length_4939_cov_507.181800_g441_i0</td>\n",
       "      <td>GEP_1_02506</td>\n",
       "    </tr>\n",
       "    <tr>\n",
       "      <th>162659</th>\n",
       "      <td>NODE_99_length_8510_cov_337.240397_g51_i0</td>\n",
       "      <td>GEP_1_02709</td>\n",
       "    </tr>\n",
       "    <tr>\n",
       "      <th>162660</th>\n",
       "      <td>NODE_9_length_14200_cov_203.386404_g0_i1</td>\n",
       "      <td>GEP_3_38440</td>\n",
       "    </tr>\n",
       "  </tbody>\n",
       "</table>\n",
       "<p>162661 rows × 2 columns</p>\n",
       "</div>"
      ],
      "text/plain": [
       "                                                gene_id assigned_orthogroup\n",
       "0         NODE_100003_length_218_cov_1.508876_g61485_i0         GEP_3_36410\n",
       "1         NODE_100007_length_218_cov_1.455621_g61489_i0         GEP_5_83366\n",
       "2       NODE_10000_length_2849_cov_6812.425357_g3011_i1         GEP_2_10045\n",
       "3        NODE_10001_length_2849_cov_465.148214_g3009_i1         GEP_3_40697\n",
       "4         NODE_100021_length_218_cov_1.183432_g61503_i0        GEP_S_193982\n",
       "...                                                 ...                 ...\n",
       "162656   NODE_99999_length_314_cov_184.928302_g54639_i0        GEP_S_059213\n",
       "162657    NODE_9999_length_2647_cov_624.535412_g3749_i0         GEP_1_07449\n",
       "162658      NODE_999_length_4939_cov_507.181800_g441_i0         GEP_1_02506\n",
       "162659        NODE_99_length_8510_cov_337.240397_g51_i0         GEP_1_02709\n",
       "162660         NODE_9_length_14200_cov_203.386404_g0_i1         GEP_3_38440\n",
       "\n",
       "[162661 rows x 2 columns]"
      ]
     },
     "execution_count": 15,
     "metadata": {},
     "output_type": "execute_result"
    }
   ],
   "source": [
    "final_combined_ogs"
   ]
  },
  {
   "cell_type": "markdown",
   "id": "badd4c61-3f40-498d-9311-2c68ad9fe654",
   "metadata": {},
   "source": [
    "## Combine everything together"
   ]
  },
  {
   "cell_type": "code",
   "execution_count": 16,
   "id": "1a173072-fe5d-4c0f-a247-e28a9ccc6501",
   "metadata": {},
   "outputs": [],
   "source": [
    "mmseq_ogs = pd.read_csv('mmseq_ogs.csv')\n",
    "final_combined_ogs = pd.read_csv('combined_assigned_orthogroups.csv')\n",
    "noncoding_ogs = pd.read_csv('noncoding_ogs.csv')\n",
    "\n",
    "# Merging dataframes\n",
    "merged_data = pd.merge(mmseq_ogs, final_combined_ogs, on='gene_id', how='outer', suffixes=('_mmseq', '_final'))\n",
    "merged_data['assigned_orthogroup'] = merged_data['assigned_orthogroup_mmseq'].combine_first(merged_data['assigned_orthogroup_final'])\n",
    "merged_data = merged_data.drop(columns=['assigned_orthogroup_mmseq', 'assigned_orthogroup_final'])\n",
    "merged_data = pd.merge(merged_data, noncoding_ogs, on='gene_id', how='outer', suffixes=('_combined', '_noncoding'))\n",
    "merged_data['assigned_orthogroup'] = merged_data['assigned_orthogroup_combined'].combine_first(merged_data['assigned_orthogroup_noncoding'])\n",
    "merged_data = merged_data.drop(columns=['assigned_orthogroup_combined', 'assigned_orthogroup_noncoding'])"
   ]
  },
  {
   "cell_type": "code",
   "execution_count": 17,
   "id": "a1215853-2b22-4e3f-93b1-94e0fc124d24",
   "metadata": {},
   "outputs": [
    {
     "data": {
      "text/html": [
       "<div>\n",
       "<style scoped>\n",
       "    .dataframe tbody tr th:only-of-type {\n",
       "        vertical-align: middle;\n",
       "    }\n",
       "\n",
       "    .dataframe tbody tr th {\n",
       "        vertical-align: top;\n",
       "    }\n",
       "\n",
       "    .dataframe thead th {\n",
       "        text-align: right;\n",
       "    }\n",
       "</style>\n",
       "<table border=\"1\" class=\"dataframe\">\n",
       "  <thead>\n",
       "    <tr style=\"text-align: right;\">\n",
       "      <th></th>\n",
       "      <th>gene_id</th>\n",
       "      <th>assigned_orthogroup</th>\n",
       "    </tr>\n",
       "  </thead>\n",
       "  <tbody>\n",
       "    <tr>\n",
       "      <th>0</th>\n",
       "      <td>NODE_100000_length_218_cov_1.508876_g61482_i0</td>\n",
       "      <td>GEP_n_97879</td>\n",
       "    </tr>\n",
       "    <tr>\n",
       "      <th>1</th>\n",
       "      <td>NODE_100000_length_314_cov_171.430189_g54640_i0</td>\n",
       "      <td>GEP_u_00001</td>\n",
       "    </tr>\n",
       "    <tr>\n",
       "      <th>2</th>\n",
       "      <td>NODE_100001_length_218_cov_1.508876_g61483_i0</td>\n",
       "      <td>GEP_n_41643</td>\n",
       "    </tr>\n",
       "    <tr>\n",
       "      <th>3</th>\n",
       "      <td>NODE_100001_length_314_cov_161.883019_g54641_i0</td>\n",
       "      <td>GEP_3_36516</td>\n",
       "    </tr>\n",
       "    <tr>\n",
       "      <th>4</th>\n",
       "      <td>NODE_100002_length_218_cov_1.508876_g61484_i0</td>\n",
       "      <td>GEP_n_89144</td>\n",
       "    </tr>\n",
       "    <tr>\n",
       "      <th>...</th>\n",
       "      <td>...</td>\n",
       "      <td>...</td>\n",
       "    </tr>\n",
       "    <tr>\n",
       "      <th>308506</th>\n",
       "      <td>NODE_999_length_5580_cov_500.866751_g457_i0</td>\n",
       "      <td>GEP_1_05422</td>\n",
       "    </tr>\n",
       "    <tr>\n",
       "      <th>308507</th>\n",
       "      <td>NODE_99_length_8510_cov_337.240397_g51_i0</td>\n",
       "      <td>GEP_1_02709</td>\n",
       "    </tr>\n",
       "    <tr>\n",
       "      <th>308508</th>\n",
       "      <td>NODE_99_length_9924_cov_150.905114_g61_i0</td>\n",
       "      <td>GEP_1_08639</td>\n",
       "    </tr>\n",
       "    <tr>\n",
       "      <th>308509</th>\n",
       "      <td>NODE_9_length_14200_cov_203.386404_g0_i1</td>\n",
       "      <td>GEP_3_38440</td>\n",
       "    </tr>\n",
       "    <tr>\n",
       "      <th>308510</th>\n",
       "      <td>NODE_9_length_16236_cov_1176.693581_g7_i0</td>\n",
       "      <td>GEP_1_08282</td>\n",
       "    </tr>\n",
       "  </tbody>\n",
       "</table>\n",
       "<p>308511 rows × 2 columns</p>\n",
       "</div>"
      ],
      "text/plain": [
       "                                                gene_id assigned_orthogroup\n",
       "0         NODE_100000_length_218_cov_1.508876_g61482_i0         GEP_n_97879\n",
       "1       NODE_100000_length_314_cov_171.430189_g54640_i0         GEP_u_00001\n",
       "2         NODE_100001_length_218_cov_1.508876_g61483_i0         GEP_n_41643\n",
       "3       NODE_100001_length_314_cov_161.883019_g54641_i0         GEP_3_36516\n",
       "4         NODE_100002_length_218_cov_1.508876_g61484_i0         GEP_n_89144\n",
       "...                                                 ...                 ...\n",
       "308506      NODE_999_length_5580_cov_500.866751_g457_i0         GEP_1_05422\n",
       "308507        NODE_99_length_8510_cov_337.240397_g51_i0         GEP_1_02709\n",
       "308508        NODE_99_length_9924_cov_150.905114_g61_i0         GEP_1_08639\n",
       "308509         NODE_9_length_14200_cov_203.386404_g0_i1         GEP_3_38440\n",
       "308510        NODE_9_length_16236_cov_1176.693581_g7_i0         GEP_1_08282\n",
       "\n",
       "[308511 rows x 2 columns]"
      ]
     },
     "execution_count": 17,
     "metadata": {},
     "output_type": "execute_result"
    }
   ],
   "source": [
    "merged_data"
   ]
  },
  {
   "cell_type": "markdown",
   "id": "4f5cf437-8135-417a-82ec-3d41e79cee69",
   "metadata": {},
   "source": [
    "### Adding strain ID back"
   ]
  },
  {
   "cell_type": "code",
   "execution_count": 18,
   "id": "267234ca-0d52-48d1-a795-f433b7472c90",
   "metadata": {},
   "outputs": [
    {
     "name": "stdout",
     "output_type": "stream",
     "text": [
      "\n",
      "Counts of each strain:\n",
      " strain\n",
      "914        156717\n",
      "874        150449\n",
      "Unknown      1345\n",
      "Name: count, dtype: int64\n"
     ]
    }
   ],
   "source": [
    "strain_mapping = defaultdict(list)\n",
    "\n",
    "for record in SeqIO.parse(\"filtered_transcripts_874.fasta\", \"fasta\"):\n",
    "    gene_id_from_fasta = record.id.strip()\n",
    "    strain_mapping[gene_id_from_fasta].append('874')\n",
    "for record in SeqIO.parse(\"filtered_transcripts_914.fasta\", \"fasta\"):\n",
    "    gene_id_from_fasta = record.id.strip()\n",
    "    strain_mapping[gene_id_from_fasta].append('914')\n",
    "\n",
    "merged_data['strain'] = merged_data['gene_id'].map(lambda gene_id: ''.join(strain_mapping.get(gene_id, 'Unknown')))\n",
    "\n",
    "if 'strain' in merged_data.columns:\n",
    "    # Fill any remaining missing strain values with 'Unknown'\n",
    "    merged_data['strain'] = merged_data['strain'].replace('', 'Unknown')\n",
    "else:\n",
    "    print(\"The 'strain' column was not created correctly.\")\n",
    "\n",
    "# Count the occurrences of each strain\n",
    "strain_counts = merged_data['strain'].value_counts(dropna=False)\n",
    "print(\"\\nCounts of each strain:\\n\", strain_counts)"
   ]
  },
  {
   "cell_type": "markdown",
   "id": "6e6fc98b-81ce-4a3e-9589-384b9510ad2a",
   "metadata": {},
   "source": [
    "### Remove bacterial sequences"
   ]
  },
  {
   "cell_type": "code",
   "execution_count": 19,
   "id": "0601c442-83ff-43c9-b315-768508bd0861",
   "metadata": {},
   "outputs": [
    {
     "name": "stdout",
     "output_type": "stream",
     "text": [
      "Found 1345 gene_ids with 'Unknown' strains:\n",
      "471    NODE_100218_length_217_cov_5.130952_g61700_i0\n",
      "496    NODE_100230_length_217_cov_3.642857_g61712_i0\n",
      "503    NODE_100234_length_217_cov_3.321429_g61716_i0\n",
      "510    NODE_100238_length_217_cov_3.065476_g61720_i0\n",
      "519    NODE_100242_length_311_cov_8.946565_g54882_i0\n",
      "Name: gene_id, dtype: object\n"
     ]
    }
   ],
   "source": [
    "unknown_strains = merged_data[merged_data['strain'] == 'Unknown']\n",
    "\n",
    "# Display the gene IDs associated with 'Unknown' strains\n",
    "if not unknown_strains.empty:\n",
    "    print(f\"Found {len(unknown_strains)} gene_ids with 'Unknown' strains:\")\n",
    "    print(unknown_strains['gene_id'].head())  # Show the first few gene IDs\n",
    "else:\n",
    "    print(\"No gene_ids with 'Unknown' strains found.\")\n",
    "\n",
    "# Remove more bacterial transcripts\n",
    "merged_data = merged_data[merged_data['strain'] != 'Unknown']\n",
    "merged_data.reset_index(drop=True, inplace=True)\n",
    "\n",
    "merged_data.to_csv('final_orthogroups.csv', index=False)"
   ]
  },
  {
   "cell_type": "markdown",
   "id": "d20289f2-4ebe-4904-9a02-b2cdcc94fc13",
   "metadata": {},
   "source": [
    "### Sanity Check"
   ]
  },
  {
   "cell_type": "code",
   "execution_count": 20,
   "id": "5532c090-a93d-49ae-83dc-da7a29410391",
   "metadata": {},
   "outputs": [
    {
     "name": "stdout",
     "output_type": "stream",
     "text": [
      "{'GEP_t': 8700, 'GEP_u': 37261, 'GEP_n': 98703, 'pan_OG': 162502}\n"
     ]
    }
   ],
   "source": [
    "gep_pattern_count = {\n",
    "    'GEP_t': merged_data['assigned_orthogroup'].str.count(r'GEP_t\\w+').sum(),\n",
    "    'GEP_u': merged_data['assigned_orthogroup'].str.count(r'GEP_u\\w+').sum(),\n",
    "    'GEP_n': merged_data['assigned_orthogroup'].str.count(r'GEP_n\\w+').sum(),\n",
    "}\n",
    "\n",
    "total_assigned = len(merged_data['assigned_orthogroup'])\n",
    "total_known_patterns = sum(gep_pattern_count.values())\n",
    "gep_pattern_count['pan_OG'] = total_assigned - total_known_patterns\n",
    "\n",
    "print(gep_pattern_count)"
   ]
  },
  {
   "cell_type": "code",
   "execution_count": 21,
   "id": "8611ce4b-c85e-4145-a5b2-e93de4d674ca",
   "metadata": {},
   "outputs": [
    {
     "name": "stdout",
     "output_type": "stream",
     "text": [
      "{'874': {'GEP_t': 3829, 'GEP_u': 18214, 'GEP_n': 51780, 'pan_OG': 76626}, '914': {'GEP_t': 4871, 'GEP_u': 19047, 'GEP_n': 46923, 'pan_OG': 85876}}\n"
     ]
    }
   ],
   "source": [
    "gep_pattern_count_by_strain = {\n",
    "    '874': {'GEP_t': 0, 'GEP_u': 0, 'GEP_n': 0, 'pan_OG': 0},\n",
    "    '914': {'GEP_t': 0, 'GEP_u': 0, 'GEP_n': 0, 'pan_OG': 0}\n",
    "}\n",
    "\n",
    "# Loop through each strain\n",
    "for strain in ['874', '914']:\n",
    "    # Filter data for the current strain\n",
    "    strain_data = merged_data[merged_data['strain'] == strain]\n",
    "    \n",
    "    # Count occurrences of each GEP pattern\n",
    "    gep_pattern_count_by_strain[strain]['GEP_t'] = strain_data['assigned_orthogroup'].str.count(r'GEP_t\\w+').sum()\n",
    "    gep_pattern_count_by_strain[strain]['GEP_u'] = strain_data['assigned_orthogroup'].str.count(r'GEP_u\\w+').sum()\n",
    "    gep_pattern_count_by_strain[strain]['GEP_n'] = strain_data['assigned_orthogroup'].str.count(r'GEP_n\\w+').sum()\n",
    "    \n",
    "    # Calculate the total assigned and pan_OG counts\n",
    "    total_assigned = len(strain_data['assigned_orthogroup'])\n",
    "    total_known_patterns = (\n",
    "        gep_pattern_count_by_strain[strain]['GEP_t'] + \n",
    "        gep_pattern_count_by_strain[strain]['GEP_u'] + \n",
    "        gep_pattern_count_by_strain[strain]['GEP_n']\n",
    "    )\n",
    "    gep_pattern_count_by_strain[strain]['pan_OG'] = total_assigned - total_known_patterns\n",
    "\n",
    "# Print the counts by strain\n",
    "print(gep_pattern_count_by_strain)"
   ]
  },
  {
   "cell_type": "code",
   "execution_count": 71,
   "id": "67c86500-5113-47e6-a64a-bc34bd2b1fac",
   "metadata": {},
   "outputs": [
    {
     "name": "stdout",
     "output_type": "stream",
     "text": [
      "Total Unique Assigned Orthogroups: 178986\n"
     ]
    }
   ],
   "source": [
    "unique_assigned_orthogroups = merged_data['assigned_orthogroup'].nunique()\n",
    "print(\"Total Unique Assigned Orthogroups:\", unique_assigned_orthogroups)"
   ]
  }
 ],
 "metadata": {
  "kernelspec": {
   "display_name": "Python 3 (ipykernel)",
   "language": "python",
   "name": "python3"
  },
  "language_info": {
   "codemirror_mode": {
    "name": "ipython",
    "version": 3
   },
   "file_extension": ".py",
   "mimetype": "text/x-python",
   "name": "python",
   "nbconvert_exporter": "python",
   "pygments_lexer": "ipython3",
   "version": "3.12.3"
  }
 },
 "nbformat": 4,
 "nbformat_minor": 5
}
